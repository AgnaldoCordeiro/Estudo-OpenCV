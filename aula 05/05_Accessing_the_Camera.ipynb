{
  "cells": [
    {
      "cell_type": "code",
      "execution_count": 2,
      "metadata": {
        "ExecuteTime": {
          "end_time": "2023-03-29T19:24:58.363820Z",
          "start_time": "2023-03-29T19:24:57.759798Z"
        },
        "id": "s5i1gwPIezav"
      },
      "outputs": [],
      "source": [
        "\"\"\" import cv2\n",
        "import sys\n",
        "\n",
        "s = 0\n",
        "if len(sys.argv) > 1:\n",
        "    s = sys.argv[1]\n",
        "\n",
        "source = cv2.VideoCapture(s)\n",
        "\n",
        "win_name = 'Camera Preview'\n",
        "cv2.namedWindow(win_name, cv2.WINDOW_NORMAL)\n",
        "\n",
        "while cv2.waitKey(1) != 27: # Escape\n",
        "    has_frame, frame = source.read()\n",
        "    if not has_frame:\n",
        "        break\n",
        "    cv2.imshow(win_name, frame)\n",
        "\n",
        "source.release()\n",
        "cv2.destroyWindow(win_name) \"\"\"\n",
        "\n",
        "import cv2\n",
        "\n",
        "# Especifique o nome da câmera virtual do OBS. Pode ser necessário ajustar o nome.\n",
        "camera_virtual_obs = \"https://192.168.15.157:8080/video\"\n",
        "\n",
        "# Tente abrir a câmera virtual do OBS\n",
        "source = cv2.VideoCapture(camera_virtual_obs)\n",
        "\n",
        "if not source.isOpened():\n",
        "    print(\"Não foi possível abrir a câmera virtual do OBS. Verifique o nome da câmera.\")\n",
        "else:\n",
        "    win_name = 'Camera Virtual do OBS'\n",
        "    cv2.namedWindow(win_name, cv2.WINDOW_NORMAL)\n",
        "\n",
        "    while cv2.waitKey(1) != 27:  # Pressione a tecla Esc para sair\n",
        "        has_frame, frame = source.read()\n",
        "        if not has_frame:\n",
        "            break\n",
        "        cv2.imshow(win_name, frame)\n",
        "\n",
        "    source.release()\n",
        "    cv2.destroyWindow(win_name)\n"
      ]
    }
  ],
  "metadata": {
    "celltoolbar": "Slideshow",
    "colab": {
      "provenance": []
    },
    "kernelspec": {
      "display_name": "Python 3 (ipykernel)",
      "language": "python",
      "name": "python3"
    },
    "language_info": {
      "codemirror_mode": {
        "name": "ipython",
        "version": 3
      },
      "file_extension": ".py",
      "mimetype": "text/x-python",
      "name": "python",
      "nbconvert_exporter": "python",
      "pygments_lexer": "ipython3",
      "version": "3.11.5"
    },
    "toc": {
      "base_numbering": 1,
      "nav_menu": {},
      "number_sections": false,
      "sideBar": true,
      "skip_h1_title": false,
      "title_cell": "Table of Contents",
      "title_sidebar": "Contents",
      "toc_cell": false,
      "toc_position": {
        "height": "calc(100% - 180px)",
        "left": "10px",
        "top": "150px",
        "width": "160px"
      },
      "toc_section_display": true,
      "toc_window_display": false
    },
    "varInspector": {
      "cols": {
        "lenName": 16,
        "lenType": 16,
        "lenVar": 40
      },
      "kernels_config": {
        "python": {
          "delete_cmd_postfix": "",
          "delete_cmd_prefix": "del ",
          "library": "var_list.py",
          "varRefreshCmd": "print(var_dic_list())"
        },
        "r": {
          "delete_cmd_postfix": ") ",
          "delete_cmd_prefix": "rm(",
          "library": "var_list.r",
          "varRefreshCmd": "cat(var_dic_list()) "
        }
      },
      "types_to_exclude": [
        "module",
        "function",
        "builtin_function_or_method",
        "instance",
        "_Feature"
      ],
      "window_display": false
    }
  },
  "nbformat": 4,
  "nbformat_minor": 0
}
