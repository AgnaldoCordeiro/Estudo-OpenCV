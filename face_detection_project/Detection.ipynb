{
  "cells": [
    {
      "cell_type": "code",
      "execution_count": 6,
      "metadata": {
        "ExecuteTime": {
          "end_time": "2023-03-29T19:24:58.363820Z",
          "start_time": "2023-03-29T19:24:57.759798Z"
        },
        "id": "s5i1gwPIezav"
      },
      "outputs": [
        {
          "name": "stdout",
          "output_type": "stream",
          "text": [
            "6 encoding images found.\n",
            "Encoding images loaded\n"
          ]
        }
      ],
      "source": [
        "import cv2\n",
        "from simple_facerec import SimpleFacerec\n",
        "\n",
        "# Encode faces from a folder\n",
        "sfr = SimpleFacerec()\n",
        "sfr.load_encoding_images(\"images/\")\n",
        "\n",
        "# Load Camera\n",
        "camera = \"https://192.168.15.157:8080/video\"\n",
        "\n",
        "cap = cv2.VideoCapture(camera)\n",
        "\n",
        "while True:\n",
        "    ret, frame = cap.read()\n",
        "\n",
        "    # Detect Faces\n",
        "    face_locations, face_names = sfr.detect_known_faces(frame)\n",
        "    \n",
        "    for face_loc, name in zip(face_locations, face_names):\n",
        "        y1, x2, y2, x1 = face_loc[0], face_loc[1], face_loc[2], face_loc[3]\n",
        "        rectangle_color = (0, 255, 255)  # Azul (padrão)\n",
        "\n",
        "        if name == \"Unknown\":\n",
        "            name = \"Acesso Nao Autorizado\"\n",
        "            rectangle_color = (0, 0, 255)  # Vermelho\n",
        "        else:\n",
        "            rectangle_color = (0, 255, 0)  # Verde\n",
        "        \n",
        "        cv2.putText(frame, name, (x1, y1 - 10), cv2.FONT_HERSHEY_DUPLEX, 1, rectangle_color, 2)\n",
        "        cv2.rectangle(frame, (x1, y1), (x2, y2), rectangle_color, 4)\n",
        "\n",
        "    cv2.imshow(\"Frame\", frame)\n",
        "\n",
        "    key = cv2.waitKey(1)\n",
        "    if key == 27:\n",
        "        break\n",
        "\n",
        "cap.release()\n",
        "cv2.destroyAllWindows()\n"
      ]
    }
  ],
  "metadata": {
    "celltoolbar": "Slideshow",
    "colab": {
      "provenance": []
    },
    "kernelspec": {
      "display_name": "Python 3 (ipykernel)",
      "language": "python",
      "name": "python3"
    },
    "language_info": {
      "codemirror_mode": {
        "name": "ipython",
        "version": 3
      },
      "file_extension": ".py",
      "mimetype": "text/x-python",
      "name": "python",
      "nbconvert_exporter": "python",
      "pygments_lexer": "ipython3",
      "version": "3.11.5"
    },
    "toc": {
      "base_numbering": 1,
      "nav_menu": {},
      "number_sections": false,
      "sideBar": true,
      "skip_h1_title": false,
      "title_cell": "Table of Contents",
      "title_sidebar": "Contents",
      "toc_cell": false,
      "toc_position": {
        "height": "calc(100% - 180px)",
        "left": "10px",
        "top": "150px",
        "width": "160px"
      },
      "toc_section_display": true,
      "toc_window_display": false
    },
    "varInspector": {
      "cols": {
        "lenName": 16,
        "lenType": 16,
        "lenVar": 40
      },
      "kernels_config": {
        "python": {
          "delete_cmd_postfix": "",
          "delete_cmd_prefix": "del ",
          "library": "var_list.py",
          "varRefreshCmd": "print(var_dic_list())"
        },
        "r": {
          "delete_cmd_postfix": ") ",
          "delete_cmd_prefix": "rm(",
          "library": "var_list.r",
          "varRefreshCmd": "cat(var_dic_list()) "
        }
      },
      "types_to_exclude": [
        "module",
        "function",
        "builtin_function_or_method",
        "instance",
        "_Feature"
      ],
      "window_display": false
    }
  },
  "nbformat": 4,
  "nbformat_minor": 0
}
